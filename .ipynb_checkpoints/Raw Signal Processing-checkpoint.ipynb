{
 "cells": [
  {
   "cell_type": "code",
   "execution_count": 6,
   "metadata": {},
   "outputs": [],
   "source": [
    "import numpy as np\n",
    "import matplotlib.pyplot as plt\n",
    "import ast\n",
    "from scipy.stats import kurtosis\n",
    "\n",
    "\n"
   ]
  },
  {
   "cell_type": "markdown",
   "metadata": {},
   "source": [
    "## Loading"
   ]
  },
  {
   "cell_type": "code",
   "execution_count": 22,
   "metadata": {},
   "outputs": [],
   "source": [
    "\"\"\"\n",
    "purpose: parse raw data/label file, return data as numpy array\n",
    "\"\"\"\n",
    "dataFileName=\n",
    "def parse_file(dataFileName):\n",
    "    f=open(dataFileName)\n",
    "    strL=f.read()\n",
    "    l=ast.literal_eval(strL)\n",
    "    return np.array(l)\n",
    "\n",
    "\n",
    "  "
   ]
  },
  {
   "cell_type": "markdown",
   "metadata": {},
   "source": [
    "## Filtering\n",
    "### eyeblinks, poor connection, band pass filter"
   ]
  },
  {
   "cell_type": "code",
   "execution_count": 17,
   "metadata": {},
   "outputs": [],
   "source": [
    "\"\"\"\n",
    "purpose: find the indeces of trails that possibly contaminated by eyeblinks\n",
    "\"\"\"\n",
    "def eyeblink_identifier(brainwave_vec, window_interval,num_of_trials, moving_step, rejection_std):\n",
    "    kurtosis_vec = np.array([])\n",
    "    idx =0\n",
    "    while (idx < brainwave_vec.size-window_interval):\n",
    "        np.append(kurtosis, kurtosis(brainwave_vec[idx:idx+window_interval]))\n",
    "        idx += moving_step\n",
    "    kurtosis_thres = np.mean(kurtosis_vec)+ rejection_std*np.std(kurtosis_vec)\n",
    "    bad_kurtosis_index = kurtosis_vec > kurtosis_thres\n",
    "    \n",
    "    num_windows_per_trial = (brainwave_vec.size-window_interval)/ moving_step+1\n",
    "    bad_trial_index = []\n",
    "    \n",
    "    for i in range(0,kurtosis_vec.size):\n",
    "        if (bad_kurtosis_index[i] == True):\n",
    "            bad_train_index.append(np.floor(i/(1.0*num_windows_pertrial)))\n",
    "    \n",
    "    return np.unique(bad_trial_index)\n",
    "\n",
    "\"\"\"\n",
    "purpose: find the indices of trials that have bad connection\n",
    "\"\"\"\n",
    "\n",
    "def bad_connection_identifier(stimuli_per_trial,num_of_trials, connection_quality_vec,rejection_rate):\n",
    "    bad_trial_index =[]\n",
    "    for i in range(0, num_of_trials-1):\n",
    "        bad_sum = 0\n",
    "        for j in range(i*stimuli_per_trial,(i+1)*stimuli_per_trial):\n",
    "            if (connection_quality_vec[j] > tres):\n",
    "                bad_sum += 1\n",
    "        if (bad_sum/(1.0)*stimuli_per_trial > rejection_rate):\n",
    "            bad_trial_index.append(i)\n",
    "            \n",
    "    return np.array(bad_trial_index)\n",
    "            \n",
    "    \n",
    "     \n",
    "    \n"
   ]
  },
  {
   "cell_type": "code",
   "execution_count": 13,
   "metadata": {},
   "outputs": [
    {
     "data": {
      "text/plain": [
       "array([2])"
      ]
     },
     "execution_count": 13,
     "metadata": {},
     "output_type": "execute_result"
    }
   ],
   "source": [
    "a = [2]\n",
    "a.append(2)\n",
    "np.unique(a)"
   ]
  },
  {
   "cell_type": "markdown",
   "metadata": {},
   "source": [
    "## Processing\n",
    "### Chop the data into trials, discard bad trials, average trails with the same stimuli"
   ]
  },
  {
   "cell_type": "code",
   "execution_count": null,
   "metadata": {},
   "outputs": [],
   "source": [
    "f=\"signal_data\\signal03_11_2019__10_57_39.txt\" #signal data\n",
    "g=\"stimuli_data\\stimuli03_11_2019__10_57_39.txt\" #stimuli stamp\n",
    "\n",
    "#signalFile format: (outputlevel, timestamp, quality)\n",
    "#stimuliFile format: (pictureIndex,condition,timestamp)\n",
    "#output format: 2d tuple with each elment as a sample, each sample a point of signalFile format\n",
    "#scopePre and scopePost are the seconds before/after included in the sample\n",
    "def sync( signalFile, stimuliFile, scopePre, scopePost):\n",
    "    f=parse_file(signalFile)\n",
    "    g=parse_file(stimuliFile)\n",
    "    out=[]\n",
    "    temp=[]\n",
    "    for i in g:\n",
    "        temp=[]\n",
    "        for j in f:\n",
    "            if j[1]>i[2]+scopePre and j[1]<i[2]+scopePost:\n",
    "                temp.append(j)\n",
    "        out.append(temp)\n",
    "    return out\n",
    "\n",
    "#Test\n",
    "res=sync(f,g,-0.2,1)\n",
    "plotData(res[0])\n",
    "\n",
    "def getLabel(stimuliFile):\n",
    "    out=[]\n",
    "    g=parse_file(stimuliFile)\n",
    "    for x in g:\n",
    "       out.append(int(x[1]))\n",
    "    return out\n",
    "\n",
    "#Test\n",
    "print(getLabel(g)) "
   ]
  },
  {
   "cell_type": "markdown",
   "metadata": {},
   "source": [
    "## Classification"
   ]
  },
  {
   "cell_type": "code",
   "execution_count": null,
   "metadata": {},
   "outputs": [],
   "source": []
  }
 ],
 "metadata": {
  "kernelspec": {
   "display_name": "Python 2",
   "language": "python",
   "name": "python2"
  },
  "language_info": {
   "codemirror_mode": {
    "name": "ipython",
    "version": 2
   },
   "file_extension": ".py",
   "mimetype": "text/x-python",
   "name": "python",
   "nbconvert_exporter": "python",
   "pygments_lexer": "ipython2",
   "version": "2.7.15"
  }
 },
 "nbformat": 4,
 "nbformat_minor": 2
}
