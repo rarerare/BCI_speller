{
 "cells": [
  {
   "cell_type": "code",
   "execution_count": 6,
   "metadata": {},
   "outputs": [],
   "source": [
    "import numpy as np\n",
    "import matplotlib.pyplot as plt\n",
    "import ast\n",
    "from scipy.stats import kurtosis\n",
    "\n",
    "\n"
   ]
  },
  {
   "cell_type": "markdown",
   "metadata": {},
   "source": [
    "## Loading"
   ]
  },
  {
   "cell_type": "code",
   "execution_count": 22,
   "metadata": {},
   "outputs": [],
   "source": [
    "\"\"\"\n",
    "purpose: parse raw data file, return data as numpy array\n",
    "\"\"\"\n",
    "def parse_file(dataFileName):\n",
    "    f=open(dataFileName)\n",
    "    strL=f.read()\n",
    "    l=ast.literal_eval(strL)\n",
    "    return np.array(l)\n",
    "\n",
    "\"\"\"\n",
    "purpose: find the indecii of trails that possibly contaminated by eyeblinks\n",
    "\"\"\"\n",
    "def eyeblink_identifier(brainwave_vec, num_of_trials, window_interval, rejection_std):\n",
    "    kurtosis_vec = np.array([])\n",
    "    while (idx < brainwave_vec.size-window_interval):\n",
    "        np.append(kurtosis, kurtosis(brainwave_vec[idx:idx+window_interval]))\n",
    "        idx += window_interval\n",
    "    bad_kurtosis_index = kurtosis_vec < \n",
    "        \n",
    "    \n",
    "    \n",
    "    \n",
    "    \n",
    "    "
   ]
  },
  {
   "cell_type": "code",
   "execution_count": 10,
   "metadata": {},
   "outputs": [
    {
     "name": "stdout",
     "output_type": "stream",
     "text": [
      "[False False]\n"
     ]
    }
   ],
   "source": [
    "a = np.array([1,2])\n",
    "\n",
    "\n",
    "print(a<1)"
   ]
  },
  {
   "cell_type": "code",
   "execution_count": 24,
   "metadata": {},
   "outputs": [
    {
     "ename": "SyntaxError",
     "evalue": "unexpected EOF while parsing (<ipython-input-24-aeccb3534b53>, line 2)",
     "output_type": "error",
     "traceback": [
      "\u001b[1;36m  File \u001b[1;32m\"<ipython-input-24-aeccb3534b53>\"\u001b[1;36m, line \u001b[1;32m2\u001b[0m\n\u001b[1;33m    for i in range(0,brainwave_time_vec):\u001b[0m\n\u001b[1;37m                                         ^\u001b[0m\n\u001b[1;31mSyntaxError\u001b[0m\u001b[1;31m:\u001b[0m unexpected EOF while parsing\n"
     ]
    }
   ],
   "source": [
    "\n",
    "\n",
    "        trials.append(brainwave_time_vec[stimulus_time_vec[i]])"
   ]
  },
  {
   "cell_type": "code",
   "execution_count": 23,
   "metadata": {},
   "outputs": [
    {
     "data": {
      "text/plain": [
       "(30000, 2)"
      ]
     },
     "execution_count": 23,
     "metadata": {},
     "output_type": "execute_result"
    }
   ],
   "source": [
    "testFile = 'data/signal_data/signal03_08_2019__14_34_41.txt'\n",
    "data = loadDataFromFile(testFile)\n",
    "data.shape"
   ]
  },
  {
   "cell_type": "code",
   "execution_count": null,
   "metadata": {},
   "outputs": [],
   "source": []
  }
 ],
 "metadata": {
  "kernelspec": {
   "display_name": "Python 3",
   "language": "python",
   "name": "python3"
  },
  "language_info": {
   "codemirror_mode": {
    "name": "ipython",
    "version": 3
   },
   "file_extension": ".py",
   "mimetype": "text/x-python",
   "name": "python",
   "nbconvert_exporter": "python",
   "pygments_lexer": "ipython3",
   "version": "3.5.0"
  }
 },
 "nbformat": 4,
 "nbformat_minor": 2
}
