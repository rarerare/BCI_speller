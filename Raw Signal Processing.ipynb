{
 "cells": [
  {
   "cell_type": "code",
   "execution_count": 6,
   "metadata": {},
   "outputs": [],
   "source": [
    "import numpy as np\n",
    "import matplotlib.pyplot as plt\n",
    "import ast\n",
    "from scipy.stats import kurtosis\n",
    "\n",
    "\n"
   ]
  },
  {
   "cell_type": "markdown",
   "metadata": {},
   "source": [
    "## Loading"
   ]
  },
  {
   "cell_type": "code",
   "execution_count": 22,
   "metadata": {},
   "outputs": [],
   "source": [
    "\"\"\"\n",
    "purpose: parse raw data/label file, return data as numpy array\n",
    "\"\"\"\n",
    "def parse_file(dataFileName):\n",
    "    f=open(dataFileName)\n",
    "    strL=f.read()\n",
    "    l=ast.literal_eval(strL)\n",
    "    return np.array(l)\n",
    "\n",
    "\n",
    "  "
   ]
  },
  {
   "cell_type": "markdown",
   "metadata": {},
   "source": [
    "## Filtering\n",
    "### eyeblinks, band pass filter"
   ]
  },
  {
   "cell_type": "code",
   "execution_count": null,
   "metadata": {},
   "outputs": [],
   "source": [
    "\"\"\"\n",
    "purpose: find the indecii of trails that possibly contaminated by eyeblinks\n",
    "\"\"\"\n",
    "def eyeblink_identifier(brainwave_vec, num_of_trials, window_interval, rejection_std):\n",
    "    kurtosis_vec = np.array([])\n",
    "    while (idx < brainwave_vec.size-window_interval):\n",
    "        np.append(kurtosis, kurtosis(brainwave_vec[idx:idx+window_interval]))\n",
    "        idx += window_interval\n",
    "    bad_kurtosis_index = kurtosis_vec < \n",
    "    \n"
   ]
  },
  {
   "cell_type": "markdown",
   "metadata": {},
   "source": [
    "## Processing\n",
    "### Chop the data into trials, discard bad trials, average trails with the same stimuli"
   ]
  },
  {
   "cell_type": "code",
   "execution_count": null,
   "metadata": {},
   "outputs": [],
   "source": []
  },
  {
   "cell_type": "markdown",
   "metadata": {},
   "source": [
    "## Classification"
   ]
  },
  {
   "cell_type": "code",
   "execution_count": null,
   "metadata": {},
   "outputs": [],
   "source": []
  }
 ],
 "metadata": {
  "kernelspec": {
   "display_name": "Python 3",
   "language": "python",
   "name": "python3"
  },
  "language_info": {
   "codemirror_mode": {
    "name": "ipython",
    "version": 3
   },
   "file_extension": ".py",
   "mimetype": "text/x-python",
   "name": "python",
   "nbconvert_exporter": "python",
   "pygments_lexer": "ipython3",
   "version": "3.5.0"
  }
 },
 "nbformat": 4,
 "nbformat_minor": 2
}
