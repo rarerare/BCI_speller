{
 "cells": [
  {
   "cell_type": "code",
   "execution_count": 6,
   "metadata": {},
   "outputs": [],
   "source": [
    "import numpy as np\n",
    "import matplotlib.pyplot as plt\n",
    "import ast\n",
    "from scipy.stats import kurtosis\n",
    "\n",
    "\n"
   ]
  },
  {
   "cell_type": "markdown",
   "metadata": {},
   "source": [
    "## Loading"
   ]
  },
  {
   "cell_type": "code",
   "execution_count": 2,
   "metadata": {},
   "outputs": [],
   "source": [
    "\"\"\"\n",
    "purpose: parse raw data/label file, return data as numpy array\n",
    "\"\"\"\n",
    "def parse_file(dataFileName):\n",
    "    f=open(dataFileName)\n",
    "    strL=f.read()\n",
    "    l=ast.literal_eval(strL)\n",
    "    return np.array(l)\n",
    "\n",
    "\n",
    "  "
   ]
  },
  {
   "cell_type": "markdown",
   "metadata": {},
   "source": [
    "## Filtering\n",
    "### eyeblinks, poor connection, band pass filter"
   ]
  },
  {
   "cell_type": "code",
   "execution_count": 3,
   "metadata": {},
   "outputs": [],
   "source": [
    "\"\"\"\n",
    "purpose: find the indeces of trails that possibly contaminated by eyeblinks\n",
    "\"\"\"\n",
    "def eyeblink_identifier(brainwave_vec, window_interval,num_of_trials, moving_step, rejection_std):\n",
    "    kurtosis_vec = np.array([])\n",
    "    idx =0\n",
    "    while (idx < brainwave_vec.size-window_interval):\n",
    "        np.append(kurtosis, kurtosis(brainwave_vec[idx:idx+window_interval]))\n",
    "        idx += moving_step\n",
    "    kurtosis_thres = np.mean(kurtosis_vec)+ rejection_std*np.std(kurtosis_vec)\n",
    "    bad_kurtosis_index = kurtosis_vec > kurtosis_thres\n",
    "    \n",
    "    num_windows_per_trial = (brainwave_vec.size-window_interval)/ moving_step+1\n",
    "    bad_trial_index = []\n",
    "    \n",
    "    for i in range(0,kurtosis_vec.size):\n",
    "        if (bad_kurtosis_index[i] == True):\n",
    "            bad_train_index.append(np.floor(i/(1.0*num_windows_pertrial)))\n",
    "    \n",
    "    return np.unique(bad_trial_index)\n",
    "\n",
    "\"\"\"\n",
    "purpose: find the indices of trials that have bad connection\n",
    "\"\"\"\n",
    "\n",
    "def bad_connection_identifier(stimuli_per_trial,num_of_trials, connection_quality_vec,rejection_rate):\n",
    "    bad_trial_index =[]\n",
    "    for i in range(0, num_of_trials-1):\n",
    "        bad_sum = 0\n",
    "        for j in range(i*stimuli_per_trial,(i+1)*stimuli_per_trial):\n",
    "            if (connection_quality_vec[j] > tres):\n",
    "                bad_sum += 1\n",
    "        if (bad_sum/(1.0)*stimuli_per_trial > rejection_rate):\n",
    "            bad_trial_index.append(i)\n",
    "            \n",
    "    return np.array(bad_trial_index)\n",
    "            \n",
    "    \n",
    "     \n",
    "    \n"
   ]
  },
  {
   "cell_type": "code",
   "execution_count": 4,
   "metadata": {},
   "outputs": [
    {
     "ename": "NameError",
     "evalue": "name 'np' is not defined",
     "output_type": "error",
     "traceback": [
      "\u001b[0;31m---------------------------------------------------------------------------\u001b[0m",
      "\u001b[0;31mNameError\u001b[0m                                 Traceback (most recent call last)",
      "\u001b[0;32m<ipython-input-4-71bda5e9ca4c>\u001b[0m in \u001b[0;36m<module>\u001b[0;34m()\u001b[0m\n\u001b[1;32m      1\u001b[0m \u001b[0ma\u001b[0m \u001b[0;34m=\u001b[0m \u001b[0;34m[\u001b[0m\u001b[0;36m2\u001b[0m\u001b[0;34m]\u001b[0m\u001b[0;34m\u001b[0m\u001b[0m\n\u001b[1;32m      2\u001b[0m \u001b[0ma\u001b[0m\u001b[0;34m.\u001b[0m\u001b[0mappend\u001b[0m\u001b[0;34m(\u001b[0m\u001b[0;36m2\u001b[0m\u001b[0;34m)\u001b[0m\u001b[0;34m\u001b[0m\u001b[0m\n\u001b[0;32m----> 3\u001b[0;31m \u001b[0mnp\u001b[0m\u001b[0;34m.\u001b[0m\u001b[0munique\u001b[0m\u001b[0;34m(\u001b[0m\u001b[0ma\u001b[0m\u001b[0;34m)\u001b[0m\u001b[0;34m\u001b[0m\u001b[0m\n\u001b[0m",
      "\u001b[0;31mNameError\u001b[0m: name 'np' is not defined"
     ]
    }
   ],
   "source": [
    "a = [2]\n",
    "a.append(2)\n",
    "np.unique(a)"
   ]
  },
  {
   "cell_type": "markdown",
   "metadata": {},
   "source": [
    "## Processing\n",
    "### Chop the data into trials, discard bad trials, average trails with the same stimuli"
   ]
  },
  {
   "cell_type": "code",
   "execution_count": 5,
   "metadata": {},
   "outputs": [
    {
     "ename": "IOError",
     "evalue": "[Errno 2] No such file or directory: 'signal_data\\\\signal03_11_2019__10_57_39.txt'",
     "output_type": "error",
     "traceback": [
      "\u001b[0;31m---------------------------------------------------------------------------\u001b[0m",
      "\u001b[0;31mIOError\u001b[0m                                   Traceback (most recent call last)",
      "\u001b[0;32m<ipython-input-5-bb2b2e83de7a>\u001b[0m in \u001b[0;36m<module>\u001b[0;34m()\u001b[0m\n\u001b[1;32m     18\u001b[0m     \u001b[0;32mreturn\u001b[0m \u001b[0mout\u001b[0m\u001b[0;34m\u001b[0m\u001b[0m\n\u001b[1;32m     19\u001b[0m \u001b[0;34m\u001b[0m\u001b[0m\n\u001b[0;32m---> 20\u001b[0;31m \u001b[0mff\u001b[0m\u001b[0;34m=\u001b[0m\u001b[0msync\u001b[0m\u001b[0;34m(\u001b[0m\u001b[0mf\u001b[0m\u001b[0;34m,\u001b[0m\u001b[0mg\u001b[0m\u001b[0;34m,\u001b[0m\u001b[0;34m-\u001b[0m\u001b[0;36m0.2\u001b[0m\u001b[0;34m,\u001b[0m\u001b[0;36m1.3\u001b[0m\u001b[0;34m)\u001b[0m\u001b[0;34m\u001b[0m\u001b[0m\n\u001b[0m\u001b[1;32m     21\u001b[0m \u001b[0;34m\u001b[0m\u001b[0m\n\u001b[1;32m     22\u001b[0m \u001b[0;32mdef\u001b[0m \u001b[0mshiftMeanTo0\u001b[0m\u001b[0;34m(\u001b[0m\u001b[0mdata\u001b[0m\u001b[0;34m)\u001b[0m\u001b[0;34m:\u001b[0m\u001b[0;34m\u001b[0m\u001b[0m\n",
      "\u001b[0;32m<ipython-input-5-bb2b2e83de7a>\u001b[0m in \u001b[0;36msync\u001b[0;34m(signalFile, stimuliFile, scopePre, scopePost)\u001b[0m\n\u001b[1;32m      6\u001b[0m \u001b[0;31m#output format:\u001b[0m\u001b[0;34m\u001b[0m\u001b[0;34m\u001b[0m\u001b[0m\n\u001b[1;32m      7\u001b[0m \u001b[0;32mdef\u001b[0m \u001b[0msync\u001b[0m\u001b[0;34m(\u001b[0m\u001b[0msignalFile\u001b[0m\u001b[0;34m,\u001b[0m\u001b[0mstimuliFile\u001b[0m\u001b[0;34m,\u001b[0m\u001b[0mscopePre\u001b[0m\u001b[0;34m,\u001b[0m\u001b[0mscopePost\u001b[0m\u001b[0;34m)\u001b[0m\u001b[0;34m:\u001b[0m\u001b[0;34m\u001b[0m\u001b[0m\n\u001b[0;32m----> 8\u001b[0;31m     \u001b[0mf\u001b[0m\u001b[0;34m=\u001b[0m\u001b[0mparse_file\u001b[0m\u001b[0;34m(\u001b[0m\u001b[0msignalFile\u001b[0m\u001b[0;34m)\u001b[0m\u001b[0;34m\u001b[0m\u001b[0m\n\u001b[0m\u001b[1;32m      9\u001b[0m     \u001b[0mg\u001b[0m\u001b[0;34m=\u001b[0m\u001b[0mparse_file\u001b[0m\u001b[0;34m(\u001b[0m\u001b[0mstimuliFile\u001b[0m\u001b[0;34m)\u001b[0m\u001b[0;34m\u001b[0m\u001b[0m\n\u001b[1;32m     10\u001b[0m     \u001b[0mtemp\u001b[0m\u001b[0;34m=\u001b[0m\u001b[0;34m[\u001b[0m\u001b[0;34m]\u001b[0m\u001b[0;34m\u001b[0m\u001b[0m\n",
      "\u001b[0;32m<ipython-input-2-6cecbdd0d121>\u001b[0m in \u001b[0;36mparse_file\u001b[0;34m(dataFileName)\u001b[0m\n\u001b[1;32m      3\u001b[0m \"\"\"\n\u001b[1;32m      4\u001b[0m \u001b[0;32mdef\u001b[0m \u001b[0mparse_file\u001b[0m\u001b[0;34m(\u001b[0m\u001b[0mdataFileName\u001b[0m\u001b[0;34m)\u001b[0m\u001b[0;34m:\u001b[0m\u001b[0;34m\u001b[0m\u001b[0m\n\u001b[0;32m----> 5\u001b[0;31m     \u001b[0mf\u001b[0m\u001b[0;34m=\u001b[0m\u001b[0mopen\u001b[0m\u001b[0;34m(\u001b[0m\u001b[0mdataFileName\u001b[0m\u001b[0;34m)\u001b[0m\u001b[0;34m\u001b[0m\u001b[0m\n\u001b[0m\u001b[1;32m      6\u001b[0m     \u001b[0mstrL\u001b[0m\u001b[0;34m=\u001b[0m\u001b[0mf\u001b[0m\u001b[0;34m.\u001b[0m\u001b[0mread\u001b[0m\u001b[0;34m(\u001b[0m\u001b[0;34m)\u001b[0m\u001b[0;34m\u001b[0m\u001b[0m\n\u001b[1;32m      7\u001b[0m     \u001b[0ml\u001b[0m\u001b[0;34m=\u001b[0m\u001b[0mast\u001b[0m\u001b[0;34m.\u001b[0m\u001b[0mliteral_eval\u001b[0m\u001b[0;34m(\u001b[0m\u001b[0mstrL\u001b[0m\u001b[0;34m)\u001b[0m\u001b[0;34m\u001b[0m\u001b[0m\n",
      "\u001b[0;31mIOError\u001b[0m: [Errno 2] No such file or directory: 'signal_data\\\\signal03_11_2019__10_57_39.txt'"
     ]
    }
   ],
   "source": [
    "f=\"signal_data\\signal03_11_2019__10_57_39.txt\" #signal data\n",
    "g=\"stimuli_data\\stimuli03_11_2019__10_57_39.txt\" #stimuli stamp\n",
    "\n",
    "#signalFile format: (outputlevel, timestamp, quality)\n",
    "#stimuliFile format: (,,timestamp)\n",
    "#output format:\n",
    "def sync(signalFile,stimuliFile,scopePre,scopePost):   \n",
    "    f=parse_file(signalFile)\n",
    "    g=parse_file(stimuliFile)\n",
    "    temp=[]\n",
    "    out=[]\n",
    "    for i in g:\n",
    "        temp=[]\n",
    "        for j in f:\n",
    "            if j[1]>i[2]+scopePre and j[1]<i[2]+scopePost:\n",
    "                temp.append(j)\n",
    "        out.append(temp)\n",
    "    return out\n",
    "\n",
    "ff=sync(f,g,-0.2,1.3)\n",
    "\n",
    "def shiftMeanTo0(data):\n",
    "    m=np.mean(data,0)[0]\n",
    "    return [i -m for i in data]\n",
    "\n",
    "def getSignal(data):\n",
    "    return [i[0] for i in data]\n",
    "\n",
    "def synAll(signalFile,stimuliFile):\n",
    "    return\n",
    "\n",
    "#Test\n",
    "res=shiftMeanTo0(ff[0])\n",
    "# plt.plot(getSignal(res))\n",
    "sig=getSignal(res)\n",
    "alphaBand=butter_bandpass_filter(np.array(sig), alphaCuts[0], alphaCuts[1], fs)\n",
    "plt.plot(alphaBand)\n",
    "\n"
   ]
  },
  {
   "cell_type": "markdown",
   "metadata": {},
   "source": [
    "## Classification"
   ]
  },
  {
   "cell_type": "code",
   "execution_count": null,
   "metadata": {},
   "outputs": [],
   "source": []
  }
 ],
 "metadata": {
  "kernelspec": {
   "display_name": "Python 2",
   "language": "python",
   "name": "python2"
  },
  "language_info": {
   "codemirror_mode": {
    "name": "ipython",
    "version": 2
   },
   "file_extension": ".py",
   "mimetype": "text/x-python",
   "name": "python",
   "nbconvert_exporter": "python",
   "pygments_lexer": "ipython2",
   "version": "2.7.15"
  }
 },
 "nbformat": 4,
 "nbformat_minor": 2
}
